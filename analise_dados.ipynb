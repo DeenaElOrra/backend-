{
 "cells": [
  {
   "cell_type": "code",
   "execution_count": 68,
   "metadata": {},
   "outputs": [],
   "source": [
    "import pandas as pd\n",
    "import os\n",
    "import openai\n",
    "import os\n",
    "from dotenv import load_dotenv\n",
    "from openai import OpenAI \n",
    "from IPython.display import display, Markdown"
   ]
  },
  {
   "cell_type": "code",
   "execution_count": 55,
   "metadata": {},
   "outputs": [],
   "source": [
    "load_dotenv()\n",
    "openai.api_key = os.getenv(\"OPENAI_API_KEY\")\n",
    "client = OpenAI(api_key=os.environ.get(\"OPENAI_API_KEY\"))\n",
    "model_natural_lang = 'gpt-4o'"
   ]
  },
  {
   "cell_type": "code",
   "execution_count": 56,
   "metadata": {},
   "outputs": [],
   "source": [
    "biografias_df = pd.read_csv('/Users/elorr/Documents/backstage/dados/biografias.csv')\n",
    "linkedin_posts_df = pd.read_csv('/Users/elorr/Documents/backstage/dados/noticias.csv')\n",
    "artigos_df = pd.read_csv('/Users/elorr/Documents/backstage/dados/posts_linkedin.csv')"
   ]
  },
  {
   "cell_type": "markdown",
   "metadata": {},
   "source": [
    "# Função extração de info"
   ]
  },
  {
   "cell_type": "code",
   "execution_count": 57,
   "metadata": {},
   "outputs": [],
   "source": [
    "def extrair_informacoes(conteudo, tipo):\n",
    "\n",
    "    if tipo == 'biogragia':\n",
    "        completion = client.chat.completions.create(\n",
    "        model=model_natural_lang,\n",
    "            messages=[\n",
    "                {\"role\": \"system\", \"content\": \"Você é um assistente que ajuda a extrair informações específicas de biografias.\"},\n",
    "                {\"role\": \"user\", \"content\": f\"Por favor, extraia os seguintes tópicos da biografia fornecida: {conteudo}.\"},\n",
    "                {\"role\": \"user\", \"content\": \"\"\"\n",
    "                    - Contexto\n",
    "                    - Experiências\n",
    "                    - Trajetória Profissional\n",
    "                    - Contribuições\n",
    "                    - Impacto na Comunidade\n",
    "                    - Competências\n",
    "                    - Assuntos Dominados\n",
    "                    - Formas de Agregar para o Leitor\n",
    "                \"\"\"}\n",
    "            ]\n",
    "        )\n",
    "    else:\n",
    "        completion = client.chat.completions.create(\n",
    "        model=model_natural_lang,\n",
    "        messages=[\n",
    "            {\"role\": \"system\", \"content\": \"Você é um assistente que ajuda a extrair informações específicas de noticias e artigos de uma personalidade. Por meio do artigo fornecido, eu quero que voce identifique todas as caracteristicas de escrita dessa personalidade para que voce possa reproduzir outros textos sobre outras temáticas como exatamente a maneira que essa personalidade escreveria\"},\n",
    "            {\"role\": \"user\", \"content\": f\"Por favor, extraia os seguintes tópicos do artigo fornecido: {conteudo}.\"},\n",
    "            {\"role\": \"user\", \"content\": \"\"\"\n",
    "                - Escolha de Palavras: identifique as palavras e expressões frequentes e distintivas.\n",
    "                - Complexidade Lexical: Medir a diversidade e a complexidade do vocabulário utilizado.\n",
    "                - Estrutura das Frases: Analisar a estrutura gramatical das frases, incluindo o uso de frases curtas e longas.\n",
    "                - Uso de Pontuação: Observar o uso de vírgulas, pontos, travessões, pontos de exclamação e interrogação.\n",
    "                - Tom de Voz: Determinar se o tom é assertivo, reflexivo, sarcástico, etc.\n",
    "                - Formalidade: Avaliar o nível de formalidade do texto.\n",
    "                - Persuasividade: Analisar técnicas persuasivas, como apelos emocionais e argumentos lógicos.\n",
    "                - Sentimento: Avaliar a polaridade (positiva, negativa, neutra) e a intensidade emocional do texto.\n",
    "                - Temas e Tópicos: Identificar os principais temas e tópicos abordados no texto.\n",
    "                - Figura de Linguagem: Detectar o uso de metáforas, símiles, ironias, hipérboles, etc.\n",
    "                - Uso de Repetição: Identificar padrões de repetição de palavras e frases para ênfase.\n",
    "                - Coerência: Avaliar a lógica e a fluidez das ideias apresentadas no texto.\n",
    "                - Entonação: Estudar a entonação das frases.\n",
    "                - Ritmo e Pausas: Analisar o ritmo da fala e o uso de pausas.\n",
    "                - Marcas de Identidade: Detectar elementos que indicam a identidade pessoal ou profissional do autor.\n",
    "                - Referências Pessoais: Observar menções a experiências pessoais, crenças, e valores.\n",
    "            \"\"\"}\n",
    "        ]\n",
    "    )\n",
    "        return completion.choices[0].message.content\n"
   ]
  },
  {
   "cell_type": "markdown",
   "metadata": {},
   "source": [
    "# Extrair informações da biografia"
   ]
  },
  {
   "cell_type": "code",
   "execution_count": 59,
   "metadata": {},
   "outputs": [],
   "source": [
    "resultados = []\n",
    "\n",
    "for index, row in biografias_df.iterrows():\n",
    "    conteudo = row['conteudo']\n",
    "    tipo = row['tipo']\n",
    "    informacoes = extrair_informacoes(conteudo, tipo)\n",
    "    resultados.append({'id': row['id'], 'informacoes': informacoes})\n",
    "\n",
    "resultados_biografias_df = pd.DataFrame(resultados)\n"
   ]
  },
  {
   "cell_type": "markdown",
   "metadata": {},
   "source": [
    "# Extrair informações das notícias "
   ]
  },
  {
   "cell_type": "code",
   "execution_count": 71,
   "metadata": {},
   "outputs": [
    {
     "ename": "KeyError",
     "evalue": "0",
     "output_type": "error",
     "traceback": [
      "\u001b[0;31m---------------------------------------------------------------------------\u001b[0m",
      "\u001b[0;31mKeyError\u001b[0m                                  Traceback (most recent call last)",
      "File \u001b[0;32m/Library/Frameworks/Python.framework/Versions/3.11/lib/python3.11/site-packages/pandas/core/indexes/base.py:3653\u001b[0m, in \u001b[0;36mIndex.get_loc\u001b[0;34m(self, key)\u001b[0m\n\u001b[1;32m   3652\u001b[0m \u001b[39mtry\u001b[39;00m:\n\u001b[0;32m-> 3653\u001b[0m     \u001b[39mreturn\u001b[39;00m \u001b[39mself\u001b[39;49m\u001b[39m.\u001b[39;49m_engine\u001b[39m.\u001b[39;49mget_loc(casted_key)\n\u001b[1;32m   3654\u001b[0m \u001b[39mexcept\u001b[39;00m \u001b[39mKeyError\u001b[39;00m \u001b[39mas\u001b[39;00m err:\n",
      "File \u001b[0;32m/Library/Frameworks/Python.framework/Versions/3.11/lib/python3.11/site-packages/pandas/_libs/index.pyx:147\u001b[0m, in \u001b[0;36mpandas._libs.index.IndexEngine.get_loc\u001b[0;34m()\u001b[0m\n",
      "File \u001b[0;32m/Library/Frameworks/Python.framework/Versions/3.11/lib/python3.11/site-packages/pandas/_libs/index.pyx:176\u001b[0m, in \u001b[0;36mpandas._libs.index.IndexEngine.get_loc\u001b[0;34m()\u001b[0m\n",
      "File \u001b[0;32mpandas/_libs/hashtable_class_helper.pxi:7080\u001b[0m, in \u001b[0;36mpandas._libs.hashtable.PyObjectHashTable.get_item\u001b[0;34m()\u001b[0m\n",
      "File \u001b[0;32mpandas/_libs/hashtable_class_helper.pxi:7088\u001b[0m, in \u001b[0;36mpandas._libs.hashtable.PyObjectHashTable.get_item\u001b[0;34m()\u001b[0m\n",
      "\u001b[0;31mKeyError\u001b[0m: 0",
      "\nThe above exception was the direct cause of the following exception:\n",
      "\u001b[0;31mKeyError\u001b[0m                                  Traceback (most recent call last)",
      "Cell \u001b[0;32mIn[71], line 8\u001b[0m\n\u001b[1;32m      5\u001b[0m     resultados\u001b[39m.\u001b[39mappend({\u001b[39m'\u001b[39m\u001b[39mid\u001b[39m\u001b[39m'\u001b[39m: row[\u001b[39m'\u001b[39m\u001b[39mid\u001b[39m\u001b[39m'\u001b[39m], \u001b[39m'\u001b[39m\u001b[39minformacoes\u001b[39m\u001b[39m'\u001b[39m: informacoes})\n\u001b[1;32m      7\u001b[0m resultados_artigos_df \u001b[39m=\u001b[39m pd\u001b[39m.\u001b[39mDataFrame(resultados)\n\u001b[0;32m----> 8\u001b[0m \u001b[39mprint\u001b[39m(resultados_artigos_df[\u001b[39m0\u001b[39;49m])\n",
      "File \u001b[0;32m/Library/Frameworks/Python.framework/Versions/3.11/lib/python3.11/site-packages/pandas/core/frame.py:3761\u001b[0m, in \u001b[0;36mDataFrame.__getitem__\u001b[0;34m(self, key)\u001b[0m\n\u001b[1;32m   3759\u001b[0m \u001b[39mif\u001b[39;00m \u001b[39mself\u001b[39m\u001b[39m.\u001b[39mcolumns\u001b[39m.\u001b[39mnlevels \u001b[39m>\u001b[39m \u001b[39m1\u001b[39m:\n\u001b[1;32m   3760\u001b[0m     \u001b[39mreturn\u001b[39;00m \u001b[39mself\u001b[39m\u001b[39m.\u001b[39m_getitem_multilevel(key)\n\u001b[0;32m-> 3761\u001b[0m indexer \u001b[39m=\u001b[39m \u001b[39mself\u001b[39;49m\u001b[39m.\u001b[39;49mcolumns\u001b[39m.\u001b[39;49mget_loc(key)\n\u001b[1;32m   3762\u001b[0m \u001b[39mif\u001b[39;00m is_integer(indexer):\n\u001b[1;32m   3763\u001b[0m     indexer \u001b[39m=\u001b[39m [indexer]\n",
      "File \u001b[0;32m/Library/Frameworks/Python.framework/Versions/3.11/lib/python3.11/site-packages/pandas/core/indexes/base.py:3655\u001b[0m, in \u001b[0;36mIndex.get_loc\u001b[0;34m(self, key)\u001b[0m\n\u001b[1;32m   3653\u001b[0m     \u001b[39mreturn\u001b[39;00m \u001b[39mself\u001b[39m\u001b[39m.\u001b[39m_engine\u001b[39m.\u001b[39mget_loc(casted_key)\n\u001b[1;32m   3654\u001b[0m \u001b[39mexcept\u001b[39;00m \u001b[39mKeyError\u001b[39;00m \u001b[39mas\u001b[39;00m err:\n\u001b[0;32m-> 3655\u001b[0m     \u001b[39mraise\u001b[39;00m \u001b[39mKeyError\u001b[39;00m(key) \u001b[39mfrom\u001b[39;00m \u001b[39merr\u001b[39;00m\n\u001b[1;32m   3656\u001b[0m \u001b[39mexcept\u001b[39;00m \u001b[39mTypeError\u001b[39;00m:\n\u001b[1;32m   3657\u001b[0m     \u001b[39m# If we have a listlike key, _check_indexing_error will raise\u001b[39;00m\n\u001b[1;32m   3658\u001b[0m     \u001b[39m#  InvalidIndexError. Otherwise we fall through and re-raise\u001b[39;00m\n\u001b[1;32m   3659\u001b[0m     \u001b[39m#  the TypeError.\u001b[39;00m\n\u001b[1;32m   3660\u001b[0m     \u001b[39mself\u001b[39m\u001b[39m.\u001b[39m_check_indexing_error(key)\n",
      "\u001b[0;31mKeyError\u001b[0m: 0"
     ]
    }
   ],
   "source": [
    "for index, row in artigos_df.iterrows():\n",
    "    conteudo = row['conteudo']\n",
    "    tipo = row['tipo']\n",
    "    informacoes = extrair_informacoes(conteudo, tipo)\n",
    "    resultados.append({'id': row['id'], 'informacoes': informacoes})\n",
    "\n",
    "resultados_artigos_df = pd.DataFrame(resultados)\n",
    "print(resultados_artigos_df[0])"
   ]
  },
  {
   "cell_type": "markdown",
   "metadata": {},
   "source": [
    "# Extrair informações dos posts linkedin "
   ]
  },
  {
   "cell_type": "code",
   "execution_count": 61,
   "metadata": {},
   "outputs": [],
   "source": [
    "for index, row in linkedin_posts_df.iterrows():\n",
    "    conteudo = row['conteudo']\n",
    "    tipo = row['tipo']\n",
    "    informacoes = extrair_informacoes(conteudo, tipo)\n",
    "    resultados.append({'id': row['id'], 'informacoes': informacoes})\n",
    "\n",
    "resultados_linkedin_df = pd.DataFrame(resultados)\n"
   ]
  },
  {
   "cell_type": "markdown",
   "metadata": {},
   "source": [
    "# O prompt ideal segue a seguinte estrutura:"
   ]
  },
  {
   "cell_type": "markdown",
   "metadata": {},
   "source": [
    "CONTEXTO + TASK + EXEMPLO + PERSONA + FORMATO + TOM DE VOZ "
   ]
  },
  {
   "cell_type": "markdown",
   "metadata": {},
   "source": [
    "# GPT Final "
   ]
  },
  {
   "cell_type": "markdown",
   "metadata": {},
   "source": [
    "Converter dataframe para texto"
   ]
  },
  {
   "cell_type": "code",
   "execution_count": 65,
   "metadata": {},
   "outputs": [],
   "source": [
    "def df_para_texto(df):\n",
    "    return \" \".join(df['informacoes'].tolist())\n",
    "\n",
    "biografia_texto = df_para_texto(resultados_biografias_df)\n",
    "artigos_texto = df_para_texto(resultados_artigos_df)\n",
    "linkedin_texto = df_para_texto(resultados_artigos_df)\n",
    "\n",
    "\n",
    "# Converter exemplos de posts do LinkedIn para texto\n",
    "linkedin_posts_texto = \" \".join(linkedin_posts_df['conteudo'].tolist()[:3])"
   ]
  },
  {
   "cell_type": "code",
   "execution_count": 75,
   "metadata": {},
   "outputs": [
    {
     "data": {
      "text/plain": [
       "'### Análise do Texto de Ricardo Basaglia:\\n\\n#### Escolha de Palavras:\\n- **Palavras e Expressões Frequentes e Distintivas**:\\n  - \"transformação digital\"\\n  - \"vida das pessoas\"\\n  - \"startup de negócios\"\\n  - \"operações\"\\n  - \"liderança\"\\n  - \"best-seller\"\\n  - \"impactando milhares de pessoas\"\\n\\n#### Complexidade Lexical:\\n- **Vocabulário Utilizado**:\\n  - O texto utiliza um vocabulário acessível, porém sofisticado, relevante ao contexto corporativo e de liderança.\\n  - Termos como \"transformação digital,\" \"estratégias,\" \"operações,\" e \"impacto\" são indicativos de uma narrativa própria de negócios e gestão.\\n  - A complexidade lexical é moderada, com palavras técnicas e específicas da área de administração e tecnologia.\\n\\n#### Estrutura das Frases:\\n- **Estrutura Gramatical das Frases**:\\n  - São utilizadas frases mistas: algumas curtas e impactantes, e outras mais longas e detalhadas.\\n  - Uso de oração subordinada para explicar contexto, como \"Iniciou a carreira na área de tecnologia, atuou em projetos de transformação digital em grandes corporações, mas descobriu que sua grande paixão estava em transformar a vida das pessoas.\"\\n\\n#### Uso de Pontuação:\\n- **Observações**:\\n  - Uso frequente de vírgulas para separar ideias e adicionar fluidez.\\n  - Pontos finais para concluir pensamentos claramente.\\n  - Uso ocasional de travessões e dois pontos para adicionar detalhes ou ênfase.\\n\\n#### Tom de Voz:\\n- **Determinação do Tom**:\\n  - O tom é assertivo e inspirador, com um leve toque reflexivo quando aborda sua trajetória e impacto.\\n\\n#### Formalidade:\\n- **Nível de Formalidade**:\\n  - Formal, apropriado para um público corporativo e acadêmico.\\n  - O estilo é profissional, com um equilíbrio entre acessibilidade e sofisticação.\\n\\n#### Persuasividade:\\n- **Técnicas Persuasivas**:\\n  - Uso de apelos emocionais ao mencionar a \"transformação da vida das pessoas\" e impactar \"milhares de pessoas diariamente.\"\\n  - Argumentos lógicos ao descrever sua trajetória e realizações profissionais.\\n  - Autoridade estabelecida mediante títulos acadêmicos e profissionais.\\n\\n#### Sentimento:\\n- **Polaridade e Intensidade Emocional**:\\n  - Polaridade positiva com ênfase em crescimento, impacto e liderança.\\n  - A intensidade emocional é moderada, centrada em realizações e impacto positivo.\\n\\n#### Temas e Tópicos:\\n- **Principais Temas**:\\n  - Carreira em tecnologia\\n  - Transformação digital\\n  - Liderança e gestão\\n  - Impacto social e profissional\\n\\n#### Figura de Linguagem:\\n- **Uso de Metáforas e Outros Recursos**:\\n  - Pouco uso de figuras de linguagem evidentes. A linguagem tende a ser direta, mas pode utilizar metáforas leves em contextos como \"transformar a vida das pessoas.\"\\n\\n#### Uso de Repetição:\\n- **Padrões de Repetição**:\\n  - Repetição para ênfase no impacto, liderança, e transformação (palavras como \"transformação,\" \"impacto,\" e \"liderança\" são exemplos).\\n\\n#### Coerência:\\n- **Lógica e Fluidez**:\\n  - As ideias são apresentadas de forma lógica e fluida, com transições suaves entre diferentes aspectos da sua carreira e realizações.\\n\\n#### Entonação:\\n- **Estudo da Entonação**:\\n  - A entonação transmite confiança e autoridade. O texto flui com clareza e profissionalismo.\\n\\n#### Ritmo e Pausas:\\n- **Ritmo da Fala e Uso de Pausas**:\\n  - Ritmo moderado, com a utilização ponderada de pausas para destacar pontos importantes.\\n\\n#### Marcas de Identidade:\\n- **Elementos de Identidade Pessoal ou Profissional**:\\n  - Revela uma combinação de rigor acadêmico e experiência prática.\\n  - Identidade centrada em liderança, impacto, inovação e desenvolvimento pessoal/profissional.\\n\\n#### Referências Pessoais:\\n- **Menções a Experiências Pessoais e Crenças**:\\n  - Faz referências diretas à sua trajetória profissional, como a transição da tecnologia para a gestão de pessoas.\\n  - Expressa seus valores através da ênfase na transformação e impacto positivo.\\n\\n### Considerações Finais:\\nA análise revela que Ricardo Basaglia usa um estilo assertivo e inspirador, com um vocabulário técnico mas acessível, e uma estrutura de frases que equilibra complexidade e clareza. Ele enfatiza o impacto positivo e a liderança, mantendo uma formalidade adequada para um público profissional. Suas comunicações refletem um equilíbrio entre experiência prática e excelência acadêmica, com técnicas persuasivas que apelam tanto à lógica quanto à emoção. Claro! Vamos analisar o texto conforme os tópicos solicitados:\\n\\n### Escolha de Palavras\\n- **Palavras Frequentes e Distintivas**: \"entrevistas\", \"reuniões\", \"executivos\", \"capacidade\", \"aprendizados\", \"adaptarmos\", \"conhecimento\", \"comportamentos\", \"habilidades\", \"hábitos\", \"líderes\", \"compartilhar\", \"insights\".\\n\\n### Complexidade Lexical\\n- **Diversidade e Complexidade do Vocabulário**: O vocabulário é acessível, mas sofisticado, com termos técnicos relacionados à gestão de pessoas e liderança.\\n\\n### Estrutura das Frases\\n- **Estrutura Gramatical**: O texto utiliza uma combinação de frases curtas e longas. Frases longas são frequentemente compostas e complexas, conectadas por vírgulas e conjunções.\\n- **Exemplo de Frase Curta**: \"Faço isso para mais de 3 milhões de pessoas...\"\\n- **Exemplo de Frase Longa**: \"Conhecimento só é transformador se for compartilhado, por isso, procuro mostrar quais são os comportamentos, habilidades, hábitos e crenças de grandes líderes do Brasil e do mundo, indivíduos que ‘chegaram lá’ para ajudar mais pessoas a extraírem seu potencial e também chegarem no seu Lugar de Potência.\"\\n\\n### Uso de Pontuação\\n- **Vírgulas**: Usadas frequentemente para listar e separar ideias.\\n- **Pontos**: Pontos finais são usados adequadamente para separar sentenças.\\n- **Travessões**: Não há uso evidente.\\n- **Pontos de Exclamação e Interrogação**: Não há uso evidente.\\n\\n### Tom de Voz\\n- **Tom**: Assertivo, reflexivo e inspiracional. O autor demonstra confiança e experiência ao compartilhar informações e conselhos.\\n\\n### Formalidade\\n- **Nível de Formalidade**: Alto. Utiliza uma linguagem formal apropriada ao contexto profissional e acadêmico.\\n\\n### Persuasividade\\n- **Técnicas Persuasivas**: Apelo à lógica e ao ethos (credibilidade). Refere-se a sua vasta experiência e às instituições renomadas onde estudou.\\n- **Exemplo**: \"me preparei muito. Além de estar sempre conectado ao meu learning circle, estudei em instituições internacionais como a Harvard, Yale e Fudan Shanghai.\"\\n\\n### Sentimento\\n- **Polaridade e Intensidade Emocional**: Positiva, com um tom motivacional e inspirador. \\n\\n### Temas e Tópicos\\n- **Principais Temas**: Liderança, aprendizado, adaptação, compartilhamento de conhecimento, sucesso profissional.\\n- **Tópicos**: Experiências pessoais, entrevistas e reuniões, aprendizado contínuo, influência de líderes, plataformas de comunicação, ensino e mentoria.\\n\\n### Figura de Linguagem\\n- **Uso de Metáforas/Símiles**: \"Lugar de Potência\" como uma metáfora para o máximo alcance do potencial pessoal e profissional.\\n\\n### Uso de Repetição\\n- **Padrões de Repetição**: Uso repetido da expressão \"Lugar de Potência\" para enfatizar o conceito-chave do texto.\\n\\n### Coerência\\n- **Lógica e Fluidez**: Alta coerência, onde cada parágrafo segue de maneira lógica ao anterior, construindo um argumento sequencial e claro.\\n\\n### Entonação\\n- **Estudo da Entonação**: Entonação assertiva na defesa de ideias e princípios, mantendo um tom decidido e seguro.\\n\\n### Ritmo e Pausas\\n- **Ritmo da Fala e Pausas**: Predominantemente ritmo moderado com pausas bem distribuídas, permitindo uma leitura fluida.\\n\\n### Marcas de Identidade\\n- **Elementos que Indicam a Identidade**: Referências a suas experiências na Michael Page, menções a sua posição atual como CEO, referências a plataformas onde publica conteúdo.\\n\\n### Referências Pessoais\\n- **Experiências Pessoais, Crenças e Valores**: Diversas mencionadas, como seu tempo na Michael Page, sua formação em grandes instituições, e seu papel como formador e mentor.\\n\\n### Resumo da Análise:\\nO autor possui um estilo profissional e formal que é tanto assertivo quanto inspiracional. A estrutura gramatical é equilibrada entre frases curtas e longas, com um uso moderado de vírgulas. A persuasão é baseada principalmente em apelos lógicos e na sua credibilidade estabelecida através de experiência e formação. O texto é altamente coerente e se mantém focado em temas relacionados a liderança e desenvolvimento pessoal e profissional, utilizando a repetição para reforçar conceitos principais como \"Lugar de Potência\". - **Escolha de Palavras:**\\n    - Palavras e expressões frequentes: \"liderança\", \"gestão de pessoas\", \"relações interpessoais\", \"gestão de carreira\", \"experiência\", \"formar equipes fortes\", \"impactar positivamente\", \"diretor executivo\", \"trajetória profissional\".\\n    - Termos distintivos: \"headhunter\", \"track record\", \"PageGroup\", \"consultor de treinamento\", \"diretor-executivo\".\\n\\n- **Complexidade Lexical:**\\n    - O vocabulário é técnico e específico, refletindo uma alta diversidade lexical. Termos relacionados à carreira, liderança e gestão são comuns, além de expressões de negócios. Há uma preferência por palavras em inglês e jargões corporativos.\\n\\n- **Estrutura das Frases:**\\n    - Predominância de frases complexas com diversas orações subordinadas.\\n    - Uso de frases longas que agregam muitas informações em uma única sentença.\\n    - Estruturas gramaticais sofisticadas, combinando descrições detalhadas e específicas.\\n\\n- **Uso de Pontuação:**\\n    - Uso extensivo de vírgulas para listar qualificações, responsabilidades e realizações.\\n    - Travessões são usados para introduzir detalhes adicionais ou esclarecer informações dentro das frases.\\n    - Pontos finais são usados para encerrar frases longas e complexas.\\n\\n- **Tom de Voz:**\\n    - O tom é assertivo e autoritativo, evidenciando conhecimento profundo e confiança nas informações apresentadas.\\n    - Há uma nuance de inspiração e motivação, especialmente na descrição de realizações e impactos positivos.\\n\\n- **Formalidade:**\\n    - Alto nível de formalidade, adequado para contextos corporativos e profissionais.\\n    - Uso de títulos e termos técnicos reforçam a seriedade e a formalidade do texto.\\n\\n- **Persuasividade:**\\n    - Técnica persuasiva baseada em evidências e fatos (ex.: \"mais de 10.000 entrevistas\", \"CEO da Michael Page Brasil\").\\n    - Uso de exemplos de sucesso e conquistas profissionais para construir credibilidade e autoridade.\\n\\n- **Sentimento:**\\n    - Predominantemente positivo, destacando conquistas, competências e impactos positivos.\\n    - Há uma celebração das realizações e experiências acumuladas.\\n\\n- **Temas e Tópicos:**\\n    - Principais tópicos: liderança, gestão de pessoas, recrutamento, carreira profissional, educação e formação.\\n    - Temas subjacentes: inovação, transformação digital, mercado corporativo, desenvolvimento profissional.\\n\\n- **Figura de Linguagem:**\\n    - Uso limitado de figuras de linguagem, focando mais em uma comunicação direta e clara.\\n    - Eventuais metáforas e hipérboles podem ser utilizados para enfatizar o impacto ou o alcance das realizações.\\n\\n- **Uso de Repetição:**\\n    - Repetição de termos relacionados à carreira e liderança para enfatizar experiência e competência.\\n    - Palavras como \"liderança\", \"gestão\" e \"experiência\" são frequentemente repetidas para reforço.\\n\\n- **Coerência:**\\n    - Alta coerência com uma sequência lógica das ideias apresentadas.\\n    - A descrição das experiências e trajetórias segue uma linha do tempo clara e bem articulada.\\n\\n- **Entonação:**\\n    - A entonação transmite segurança e expertise, elevando o tom motivacional nas descrições de conquistas.\\n    - Variação entre uma entonação celebratória e factual.\\n\\n- **Ritmo e Pausas:**\\n    - Ritmo de leitura é cadenciado, devido ao uso de frases longas e períodos complexos.\\n    - Pausas implícitas ocorrem nas vírgulas e travessões, que segmentam informações sem atrapalhar a fluidez.\\n\\n- **Marcas de Identidade:**\\n    - A identidade é marcada por termos e referências ao setor de recrutamento e gestão.\\n    - Menção ao nome \"Ricardo Basaglia\" e suas afiliações institucionais (Michael Page, PageGroup) consolidam a identidade.\\n\\n- **Referências Pessoais:**\\n    - Referências diretas à trajetória pessoal de Basaglia, como sua formação acadêmica e início de carreira.\\n    - Experiências pessoais e profissionais são entrelaçadas, mostrando não apenas a vida corporativa, mas também conquistas individuais. Claro! Vou analisar o artigo conforme os tópicos fornecidos:\\n\\n**Escolha de Palavras:**\\n- Termos técnicos e especializados como \"Administração de Empresas\", \"Behavioral Science of Management\", \"transformação digital\", e \"startup de negócios\".\\n- Uso de verbos de ação: \"iniciou\", \"atuou\", \"descobriu\", \"ingressou\", \"lidera\".\\n- Palavras que evocam mudança e impacto: \"transformar\", \"responsável\", \"grande paixão\", \"operações\".\\n\\n**Complexidade Lexical:**\\n- Uso de termos acadêmicos e de negócios indica um vocabulário sofisticado.\\n- Frases relativamente longas e compostas que denotam um alto nível de complexidade lexical.\\n\\n**Estrutura das Frases:**\\n- Estruturas gramaticais complexas com subordinações e coordenações.\\n- Alternância entre frases longas e específicas com algumas frases mais curtas para destacar informações importantes.\\n\\n**Uso de Pontuação:**\\n- Uso frequente de vírgulas para separar cláusulas e detalhar informações adicionais.\\n- Pontos finais usados para concluir ideias claramente.\\n- Uso ocasional de travessões para adicionar informações complementares, mas não disruptivas.\\n\\n**Tom de Voz:**\\n- Assertivo e profissional, com um toque de reflexão pessoal na menção às paixões e realizações.\\n\\n**Formalidade:**\\n- Alto nível de formalidade adequado ao cenário empresarial e acadêmico.\\n\\n**Persuasividade:**\\n- Uso de realizações concretas e experiência profissional para construir credibilidade e autoridade.\\n- Apelos emocionais variados, como a \"grande paixão\" por transformar a vida das pessoas.\\n\\n**Sentimento:**\\n- Polaridade positiva, com foco em realizações e crescimento profissional.\\n- Intensidade moderada; o texto é mais informativo e institucional do que emocional.\\n\\n**Temas e Tópicos:**\\n- Educação superior e formação acadêmica.\\n- Experiência profissional em tecnologia e negócios.\\n- Transformação digital e liderança.\\n- Desenvolvimento de startups e expansão de negócios.\\n\\n**Figura de Linguagem:**\\n- Poucas figuras de linguagem explicitamente; o texto mantém um tom mais direto e factual.\\n\\n**Uso de Repetição:**\\n- Repetição deliberada de termos como \"transformar\" e \"liderar\" para enfatizar a missão e os valores do autor.\\n\\n**Coerência:**\\n- Alto nível de coerência com ideias bem estruturadas e fluídas, facilmente compreendidas e seguidas.\\n\\n**Entonação:**\\n- Neutra a positiva, sugestiva de competência e confiança sem arrogância.\\n\\n**Ritmo e Pausas:**\\n- Ritmo moderado com pauses adequadas para dar ênfase às conquistas e transições na carreira.\\n\\n**Marcas de Identidade:**\\n- Mencionando a afiliação e posições dentro da Michael Page.\\n- Referência a realizações específicas e papéis assumidos ao longo da carreira.\\n\\n**Referências Pessoais:**\\n- Menção específica à descoberta pessoal da paixão por transformar a vida das pessoas.\\n- Contextualização das escolhas de carreira e responsabilidades assumidas.\\n\\nEsta análise minuciosa ajuda a entender a escrita de Ricardo Basaglia e pode ser usada para reproduzir textos em um estilo semelhante, adaptando a linguagem e estrutura para diferentes conteúdos mantendo o tom e a fluidez característicos.'"
      ]
     },
     "execution_count": 75,
     "metadata": {},
     "output_type": "execute_result"
    }
   ],
   "source": [
    "biografia_texto"
   ]
  },
  {
   "cell_type": "code",
   "execution_count": 79,
   "metadata": {},
   "outputs": [
    {
     "name": "stdout",
     "output_type": "stream",
     "text": [
      "### Melhor Maneira de Dar Feedback para seus Liderados\n",
      "\n",
      "A arte de dar feedback é uma ferramenta essencial para líderes que desejam promover crescimento e melhorar performances. Primeiramente, crie um ambiente seguro e de confiança para que seus liderados se sintam à vontade para receber e dar feedback. Seja específico e claro ao abordar comportamentos e resultados, evitando generalizações. Use a técnica \"sanduíche\", iniciando com um elogio, seguido pelo feedback construtivo e finalizando com uma nota positiva. Encoraje o diálogo, ouvindo ativamente as percepções dos colaboradores. Isso não só mostra respeito, mas também fortalece a relação e facilita a aceitação e implementação do feedback.\n",
      "\n",
      "### Sugestão de Novos Assuntos\n",
      "\n",
      "1. **Autoconhecimento e Liderança:** Como o autoconhecimento pode tornar líderes mais eficazes.\n",
      "2. **Inteligência Emocional no Trabalho:** Desenvolvendo inteligência emocional para melhorar o ambiente corporativo.\n",
      "3. **Gestão de Equipes Remotas:** Estrategias e ferramentas para gerenciar equipes que trabalham remotamente.\n",
      "4. **Inovação no Ambiente Corporativo:** Como fomentar um ambiente de inovação dentro da empresa.\n",
      "5. **Cultura Organizacional Positiva:** A importância de construir e manter uma cultura organizacional positiva.\n",
      "6. **Diversidade e Inclusão:** Benefícios e práticas de diversidade e inclusão no ambiente de trabalho.\n",
      "7. **Saúde Mental dos Colaboradores:** Promovendo o bem-estar mental no ambiente de trabalho.\n",
      "8. **Liderança Feminina:** Desafios e triunfos das mulheres em posições de liderança.\n",
      "9. **Sustentabilidade Corporativa:** Iniciativas sustentáveis e responsabilidade social nas empresas.\n",
      "10. **Planejamento de Carreira:** Passos estratégicos para desenvolver uma carreira bem-sucedida e alinhada com seus valores e habilidades.\n"
     ]
    },
    {
     "data": {
      "text/markdown": [
       "### Melhor Maneira de Dar Feedback para seus Liderados\n",
       "\n",
       "A arte de dar feedback é uma ferramenta essencial para líderes que desejam promover crescimento e melhorar performances. Primeiramente, crie um ambiente seguro e de confiança para que seus liderados se sintam à vontade para receber e dar feedback. Seja específico e claro ao abordar comportamentos e resultados, evitando generalizações. Use a técnica \"sanduíche\", iniciando com um elogio, seguido pelo feedback construtivo e finalizando com uma nota positiva. Encoraje o diálogo, ouvindo ativamente as percepções dos colaboradores. Isso não só mostra respeito, mas também fortalece a relação e facilita a aceitação e implementação do feedback.\n",
       "\n",
       "### Sugestão de Novos Assuntos\n",
       "\n",
       "1. **Autoconhecimento e Liderança:** Como o autoconhecimento pode tornar líderes mais eficazes.\n",
       "2. **Inteligência Emocional no Trabalho:** Desenvolvendo inteligência emocional para melhorar o ambiente corporativo.\n",
       "3. **Gestão de Equipes Remotas:** Estrategias e ferramentas para gerenciar equipes que trabalham remotamente.\n",
       "4. **Inovação no Ambiente Corporativo:** Como fomentar um ambiente de inovação dentro da empresa.\n",
       "5. **Cultura Organizacional Positiva:** A importância de construir e manter uma cultura organizacional positiva.\n",
       "6. **Diversidade e Inclusão:** Benefícios e práticas de diversidade e inclusão no ambiente de trabalho.\n",
       "7. **Saúde Mental dos Colaboradores:** Promovendo o bem-estar mental no ambiente de trabalho.\n",
       "8. **Liderança Feminina:** Desafios e triunfos das mulheres em posições de liderança.\n",
       "9. **Sustentabilidade Corporativa:** Iniciativas sustentáveis e responsabilidade social nas empresas.\n",
       "10. **Planejamento de Carreira:** Passos estratégicos para desenvolver uma carreira bem-sucedida e alinhada com seus valores e habilidades."
      ],
      "text/plain": [
       "<IPython.core.display.Markdown object>"
      ]
     },
     "metadata": {},
     "output_type": "display_data"
    }
   ],
   "source": [
    "def gpt_final(biografia_texto, artigos_texto, linkedin_texto, NUM_CARACTERES, TEMA , linkedin_posts_texto):\n",
    "    completion = client.chat.completions.create(\n",
    "    model=model_natural_lang,\n",
    "        messages=[\n",
    "          {\"role\": \"system\", \"content\": f\"Você é a melhor agência de marketing de conteúdo estratégico para o Linkedin. Você sabe escrever os textos mais coesos, claros, explicativos, e objetivos para o seu cliente. A fim de gerar textos escritos customizados exatamente do jeito que o cliente se comunica, sobre os assuntos que ele aborda e de uma maneira que cative qualquer público leitor a ler, você deve considerar os seguintes aspectos: 1. Entender quem é o cliente em análise. Por meio da consulta desses dados {biografia_texto}.2. Aprender a escrever com as mesmas características que o cliente escreve. Esses dados estão presentes em {linkedin_texto} e {artigos_texto}. 3. Com base na consulta de todos esses dados, quero que escreva um texto de {NUM_CARACTERES} caracteres sobre {TEMA} em forma de parágrafos. 4. Finalmente, sugira novos assuntos que você acha pertinente esse cliente falar com base em todos os temas e tópicos já abordados.  Segue alguns exemplos de posts no linkedin já feitos: {linkedin_posts_texto}.\"} # <-- This is the system message that provides context to the model\n",
    "          # {\"role\": \"user\", \"content\": f\"Olá! Quero escrever um texto sobre {TEMA} de acordo com as características do meu cliente de {NUM_CARACTERES} caracteres em forma de parágrafos\"}\n",
    "        ]\n",
    "    )\n",
    "    return completion.choices[0].message.content\n",
    "\n",
    "tema = \"A melhor maneira de dar feeback para seus liderados\"\n",
    "num_caracteres = 600\n",
    "texto_final = gpt_final(biografia_texto, artigos_texto, linkedin_texto, num_caracteres, tema,linkedin_posts_texto)\n",
    "print(texto_final)\n",
    "\n",
    "# Exibir o texto formatado usando Markdown\n",
    "display(Markdown(texto_final))"
   ]
  },
  {
   "cell_type": "code",
   "execution_count": null,
   "metadata": {},
   "outputs": [],
   "source": [
    "biografias_df = pd.read_csv('/Users/elorr/Documents/backstage/dados/biografias.csv')\n",
    "linkedin_posts_df = pd.read_csv('/Users/elorr/Documents/backstage/dados/noticias.csv')\n",
    "artigos_df = pd.read_csv('/Users/elorr/Documents/backstage/dados/posts_linkedin.csv')\n",
    "\n",
    "# i choose to remain with punctuation to keep the nuances of the text, given that i want to identify the \"Ricardo way of speaking/writing\"\n",
    "\n",
    "#1. combine datasets into a single df\n",
    "#2. remove duplicates combined_df.drop_duplicates(subset=['conteudo'], inplace=True)\n",
    "#3. standardize formatting (convert everything to lower)\n",
    "#4. tokenize the text\n",
    "# clean \n",
    "# reconstruct "
   ]
  }
 ],
 "metadata": {
  "kernelspec": {
   "display_name": "Python 3",
   "language": "python",
   "name": "python3"
  },
  "language_info": {
   "codemirror_mode": {
    "name": "ipython",
    "version": 3
   },
   "file_extension": ".py",
   "mimetype": "text/x-python",
   "name": "python",
   "nbconvert_exporter": "python",
   "pygments_lexer": "ipython3",
   "version": "3.11.4"
  },
  "orig_nbformat": 4
 },
 "nbformat": 4,
 "nbformat_minor": 2
}
